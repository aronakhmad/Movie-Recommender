{
 "metadata": {
  "language_info": {
   "codemirror_mode": {
    "name": "ipython",
    "version": 3
   },
   "file_extension": ".py",
   "mimetype": "text/x-python",
   "name": "python",
   "nbconvert_exporter": "python",
   "pygments_lexer": "ipython3",
   "version": "3.8.3-final"
  },
  "orig_nbformat": 2,
  "kernelspec": {
   "name": "python3",
   "display_name": "Python 3"
  }
 },
 "nbformat": 4,
 "nbformat_minor": 2,
 "cells": [
  {
   "source": [
    "# Movie Recommender System\n",
    "Here we're about to make a movie recommender system using a certain method and algorithm. The recommender system will show 20 movies that's most likely will fit the users based on the inputted movie title by the user itself."
   ],
   "cell_type": "markdown",
   "metadata": {}
  },
  {
   "source": [
    "## Import Libraries\n",
    "import the libraries that will be used by the system"
   ],
   "cell_type": "markdown",
   "metadata": {}
  },
  {
   "cell_type": "code",
   "execution_count": 9,
   "metadata": {},
   "outputs": [],
   "source": [
    "import pandas as pd\n",
    "from sklearn.feature_extraction.text import CountVectorizer\n",
    "from sklearn.metrics.pairwise import cosine_similarity\n",
    "import difflib"
   ]
  },
  {
   "cell_type": "code",
   "execution_count": 10,
   "metadata": {},
   "outputs": [],
   "source": [
    "def title_from_index(index):\n",
    "    return movie[movie.index == index][\"title\"].values[0]\n",
    "\n",
    "def index_from_title(title):\n",
    "    title_list = movie['title'].tolist()\n",
    "    common = difflib.get_close_matches(title, title_list, 1)\n",
    "    titlesim = common[0]\n",
    "    return movie[movie.title == titlesim][\"index\"].values[0]"
   ]
  },
  {
   "source": [
    "## Open the movie data file"
   ],
   "cell_type": "markdown",
   "metadata": {}
  },
  {
   "cell_type": "code",
   "execution_count": 11,
   "metadata": {},
   "outputs": [],
   "source": [
    "movie = pd.read_csv(\"moviedata.csv\")\n",
    "features = ['keywords','cast','genres','director','tagline']\n",
    "for feature in features:\n",
    "    movie[feature] = movie[feature].fillna('')"
   ]
  },
  {
   "source": [
    "## Features Combining\n",
    "select features that will be used for the recommending purpose and combine all those features into one single string on each datum."
   ],
   "cell_type": "markdown",
   "metadata": {}
  },
  {
   "cell_type": "code",
   "execution_count": 12,
   "metadata": {},
   "outputs": [],
   "source": [
    "def combine_features(row):\n",
    "    try:\n",
    "        return row['keywords'] +\" \"+row['cast']+\" \"+row['genres']+\" \"+row['director']+\" \"+row['tagline']\n",
    "    except:\n",
    "        print (\"Error:\", row)"
   ]
  },
  {
   "source": [
    "# Input process\n",
    "here is the input process. The user will input a movie title and the inputted movie title will be processed by the system afterwards."
   ],
   "cell_type": "markdown",
   "metadata": {}
  },
  {
   "cell_type": "code",
   "execution_count": 13,
   "metadata": {},
   "outputs": [
    {
     "output_type": "stream",
     "name": "stdout",
     "text": [
      "count matrix:\n",
      "   (0, 3678)\t1\n",
      "  (0, 3065)\t1\n",
      "  (0, 5836)\t1\n",
      "  (0, 14378)\t2\n",
      "  (0, 16587)\t1\n",
      "  (0, 3225)\t1\n",
      "  (0, 14271)\t1\n",
      "  (0, 13349)\t1\n",
      "  (0, 17007)\t1\n",
      "  (0, 17290)\t1\n",
      "  (0, 13319)\t1\n",
      "  (0, 14064)\t1\n",
      "  (0, 16668)\t1\n",
      "  (0, 14608)\t1\n",
      "  (0, 8756)\t1\n",
      "  (0, 10229)\t1\n",
      "  (0, 13024)\t1\n",
      "  (0, 201)\t1\n",
      "  (0, 274)\t1\n",
      "  (0, 5274)\t1\n",
      "  (0, 13599)\t1\n",
      "  (0, 5437)\t1\n",
      "  (0, 7755)\t1\n",
      "  (0, 2432)\t1\n",
      "  (0, 4945)\t1\n",
      "  :\t:\n",
      "  (4801, 403)\t1\n",
      "  (4801, 4835)\t1\n",
      "  (4801, 17266)\t1\n",
      "  (4801, 13835)\t1\n",
      "  (4801, 13175)\t1\n",
      "  (4801, 3511)\t1\n",
      "  (4801, 13948)\t1\n",
      "  (4801, 7269)\t1\n",
      "  (4801, 17150)\t1\n",
      "  (4802, 11161)\t1\n",
      "  (4802, 4518)\t1\n",
      "  (4802, 2129)\t2\n",
      "  (4802, 4980)\t1\n",
      "  (4802, 6155)\t1\n",
      "  (4802, 3436)\t1\n",
      "  (4802, 4528)\t1\n",
      "  (4802, 1316)\t1\n",
      "  (4802, 12989)\t1\n",
      "  (4802, 4371)\t1\n",
      "  (4802, 6417)\t1\n",
      "  (4802, 4608)\t1\n",
      "  (4802, 2425)\t1\n",
      "  (4802, 3654)\t1\n",
      "  (4802, 5367)\t1\n",
      "  (4802, 6996)\t2\n",
      "cosine similarity:\n",
      " [[1.         0.25253814 0.10206207 ... 0.         0.         0.        ]\n",
      " [0.25253814 1.         0.10997148 ... 0.05714286 0.         0.        ]\n",
      " [0.10206207 0.10997148 1.         ... 0.         0.09072184 0.        ]\n",
      " ...\n",
      " [0.         0.05714286 0.         ... 1.         0.         0.04264014]\n",
      " [0.         0.         0.09072184 ... 0.         1.         0.        ]\n",
      " [0.         0.         0.         ... 0.04264014 0.         1.        ]]\n"
     ]
    }
   ],
   "source": [
    "movie[\"combined_features\"] = movie.apply(combine_features,axis=1)\n",
    "cv = CountVectorizer()\n",
    "count_matrix = cv.fit_transform(movie[\"combined_features\"])\n",
    "print('count matrix:\\n',count_matrix)\n",
    "cosine_sim = cosine_similarity(count_matrix)\n",
    "print('cosine similarity:\\n', cosine_sim)\n",
    "user_movie = input(\"Enter movie of your choice: \")\n",
    "movie_index = index_from_title(user_movie)"
   ]
  },
  {
   "source": [
    "## Recommending Process\n",
    "in this process, the system will process the inputted movie title and analyzing the similar movies that most likely fit the user based on the input itself."
   ],
   "cell_type": "markdown",
   "metadata": {}
  },
  {
   "cell_type": "code",
   "execution_count": 14,
   "metadata": {},
   "outputs": [],
   "source": [
    "similar_movies =  list(enumerate(cosine_sim[movie_index]))\n",
    "similar_movies_sorted = sorted(similar_movies,key=lambda x:x[1],reverse=True)"
   ]
  },
  {
   "source": [
    "## Outputting Process\n",
    "The system will show the 50 recommended movies to the user."
   ],
   "cell_type": "markdown",
   "metadata": {}
  },
  {
   "cell_type": "code",
   "execution_count": 15,
   "metadata": {},
   "outputs": [
    {
     "output_type": "stream",
     "name": "stdout",
     "text": [
      "\nOther movies you might be interested in:-\n\n1) Chloe\n2) High Tension\n3) The Last House on the Left\n4) Exorcist: The Beginning\n5) Friday the 13th Part III\n6) Urban Legend\n7) Serial Mom\n8) Jennifer's Body\n9) Cabin Fever\n10) Masked and Anonymous\n11) The Faculty\n12) Oculus\n13) The Texas Chainsaw Massacre: The Beginning\n14) Grace Unplugged\n15) Flipper\n16) Hide and Seek\n17) Jaws 2\n18) Sinister\n19) The R.M.\n20) In Dreams\n21) My Own Private Idaho\n22) The 6th Day\n23) The Naked Gun 2½: The Smell of Fear\n24) Disturbing Behavior\n25) Winter Passing\n26) City By The Sea\n27) Halloween: The Curse of Michael Myers\n28) The Purge: Election Year\n29) Flightplan\n30) Eternal Sunshine of the Spotless Mind\n31) Like Crazy\n32) Jeepers Creepers\n33) Alien Zone\n34) Goddess of Love\n35) A Haunted House 2\n36) American Beast\n37) Crash\n38) Chariots of Fire\n39) Red Planet\n40) Pulse\n41) Multiplicity\n42) Get Rich or Die Tryin'\n43) The Hotel New Hampshire\n44) House of Wax\n45) Evil Dead\n46) The Apparition\n47) Detention\n48) Dressed to Kill\n49) Halloween 4: The Return of Michael Myers\n50) Growing Up Smith\n"
     ]
    }
   ],
   "source": [
    "i=0\n",
    "print(\"\\nOther movies you might be interested in:-\\n\")\n",
    "for rec_movie in similar_movies_sorted:\n",
    "        if(i!=0):\n",
    "            print (i,\") \",title_from_index(rec_movie[0]),sep=\"\")\n",
    "        i=i+1\n",
    "        if i>50:\n",
    "            break"
   ]
  }
 ]
}